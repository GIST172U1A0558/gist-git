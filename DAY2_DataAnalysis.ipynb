{
 "cells": [
  {
   "cell_type": "code",
   "execution_count": 1,
   "metadata": {},
   "outputs": [
    {
     "name": "stdout",
     "output_type": "stream",
     "text": [
      "28\n"
     ]
    }
   ],
   "source": [
    "sum=[1,2,3,4,5,6,7]\n",
    "c=0\n",
    "for i in sum:\n",
    "    c=c+i\n",
    "print(c)\n"
   ]
  },
  {
   "cell_type": "markdown",
   "metadata": {},
   "source": [
    "# Title\n",
    "## Sub Title\n",
    "### Heading\n",
    "#### Sub Headings"
   ]
  },
  {
   "cell_type": "markdown",
   "metadata": {},
   "source": [
    "#### next one is order list and unorder list\n",
    "- games\n",
    "    1. cricket\n",
    "    2. football\n",
    "    3. tennis\n",
    "    4. hockey\n",
    "- indoor games\n",
    "    1. chess\n",
    "    2. carroms\n",
    "    3. ludo\n",
    "    4. snack & ladders"
   ]
  },
  {
   "cell_type": "markdown",
   "metadata": {},
   "source": [
    "#### how to place horizontal lines in markdown\n",
    "***\n",
    "   1. git\n",
    "   2. python\n",
    "   3. numpy\n",
    "***"
   ]
  },
  {
   "cell_type": "markdown",
   "metadata": {},
   "source": [
    "#### text will convertitalic and bold using markdown\n",
    "- normal text\n",
    "- *italic text*\n",
    "- **bold text**\n",
    "- this is *italic* and **bold**"
   ]
  },
  {
   "cell_type": "markdown",
   "metadata": {},
   "source": [
    "#### how to add hyper links using markdown\n",
    "- [GOOGLE](https://www.google.com)\n",
    "- [FACEBOOK](https://www.facebook.com)\n",
    "- [APSSDC](https://www.apssdc.com)"
   ]
  },
  {
   "cell_type": "markdown",
   "metadata": {},
   "source": [
    "#### how to get images using markdown\n",
    "- ![image](fruit.JPG)"
   ]
  },
  {
   "cell_type": "code",
   "execution_count": null,
   "metadata": {},
   "outputs": [],
   "source": []
  }
 ],
 "metadata": {
  "kernelspec": {
   "display_name": "Python 3",
   "language": "python",
   "name": "python3"
  },
  "language_info": {
   "codemirror_mode": {
    "name": "ipython",
    "version": 3
   },
   "file_extension": ".py",
   "mimetype": "text/x-python",
   "name": "python",
   "nbconvert_exporter": "python",
   "pygments_lexer": "ipython3",
   "version": "3.8.5"
  }
 },
 "nbformat": 4,
 "nbformat_minor": 4
}
